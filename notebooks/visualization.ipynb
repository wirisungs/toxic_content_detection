{
 "cells": [
  {
   "cell_type": "code",
   "execution_count": 4,
   "metadata": {},
   "outputs": [
    {
     "name": "stdout",
     "output_type": "stream",
     "text": [
      "Phân bố quan điểm về vaccine:\n",
      "vaccine_view\n",
      "NaN             803\n",
      "skeptic         147\n",
      "pro-vaccine      42\n",
      "anti-vaccine      8\n",
      "Name: count, dtype: int64\n",
      "\n",
      "Phân bố bình luận về Doctor Mike:\n",
      "about_doctor_mike\n",
      "NaN         860\n",
      "neutral     112\n",
      "positive     18\n",
      "negative     10\n",
      "Name: count, dtype: int64\n",
      "\n",
      "Phân bố phê bình format:\n",
      "format_criticism\n",
      "NaN    842\n",
      "yes    158\n",
      "Name: count, dtype: int64\n",
      "\n",
      "Phân bố thông tin sai lệch:\n",
      "misinformation\n",
      "NaN    960\n",
      "yes     40\n",
      "Name: count, dtype: int64\n",
      "\n",
      "Phân bố cảm xúc/trải nghiệm cá nhân:\n",
      "emotion_personal_experience\n",
      "NaN    917\n",
      "yes     83\n",
      "Name: count, dtype: int64\n",
      "\n",
      "Tỷ lệ phần trăm quan điểm về vaccine:\n",
      "vaccine_view\n",
      "skeptic         74.619289\n",
      "pro-vaccine     21.319797\n",
      "anti-vaccine     4.060914\n",
      "Name: proportion, dtype: float64\n"
     ]
    }
   ],
   "source": [
    "import pandas as pd\n",
    "\n",
    "# Đọc file dữ liệu\n",
    "df = pd.read_csv('../data/processed/labeled_comments.csv')\n",
    "\n",
    "# Đếm số lượng bình luận theo từng khía cạnh\n",
    "vaccine_view_counts = df['vaccine_view'].value_counts(dropna=False)\n",
    "about_doctor_mike_counts = df['about_doctor_mike'].value_counts(dropna=False)\n",
    "format_criticism_counts = df['format_criticism'].value_counts(dropna=False)\n",
    "misinformation_counts = df['misinformation'].value_counts(dropna=False)\n",
    "emotion_personal_experience_counts = df['emotion_personal_experience'].value_counts(dropna=False)\n",
    "\n",
    "# In kết quả\n",
    "print(\"Phân bố quan điểm về vaccine:\")\n",
    "print(vaccine_view_counts)\n",
    "print(\"\\nPhân bố bình luận về Doctor Mike:\")\n",
    "print(about_doctor_mike_counts)\n",
    "print(\"\\nPhân bố phê bình format:\")\n",
    "print(format_criticism_counts)\n",
    "print(\"\\nPhân bố thông tin sai lệch:\")\n",
    "print(misinformation_counts)\n",
    "print(\"\\nPhân bố cảm xúc/trải nghiệm cá nhân:\")\n",
    "print(emotion_personal_experience_counts)\n",
    "\n",
    "# Tính tỷ lệ phần trăm\n",
    "vaccine_view_percent = df['vaccine_view'].value_counts(normalize=True) * 100\n",
    "print(\"\\nTỷ lệ phần trăm quan điểm về vaccine:\")\n",
    "print(vaccine_view_percent)"
   ]
  }
 ],
 "metadata": {
  "kernelspec": {
   "display_name": "venv",
   "language": "python",
   "name": "python3"
  },
  "language_info": {
   "codemirror_mode": {
    "name": "ipython",
    "version": 3
   },
   "file_extension": ".py",
   "mimetype": "text/x-python",
   "name": "python",
   "nbconvert_exporter": "python",
   "pygments_lexer": "ipython3",
   "version": "3.13.2"
  }
 },
 "nbformat": 4,
 "nbformat_minor": 2
}
